{
 "cells": [
  {
   "cell_type": "code",
   "execution_count": 41,
   "metadata": {},
   "outputs": [],
   "source": [
    "import cv2\n",
    "import numpy as np\n",
    "from sklearn.linear_model import LinearRegression\n",
    "import os\n"
   ]
  },
  {
   "cell_type": "markdown",
   "metadata": {},
   "source": [
    "Використати стандартні методи лінійної алгебри для виконання цієї задачі через правильну роботу з векторами ознак і просту регресію або невеличку конволюційку, яку ви можете швидко зробити руками"
   ]
  },
  {
   "cell_type": "code",
   "execution_count": 42,
   "metadata": {},
   "outputs": [],
   "source": [
    "directory = \"test\"\n",
    "\n",
    "set_1_txt = []\n",
    "set_1_jpg = []\n",
    "# ≈ 150\n",
    "set_2_txt = []\n",
    "set_2_jpg = []\n",
    "for name in os.listdir(directory):\n",
    "    file_path = os.path.join(directory, name)\n",
    "    if name.endswith('set2.txt'):\n",
    "        set_2_txt.append(file_path)\n",
    "    elif name.endswith('set2.jpg'):\n",
    "        set_2_jpg.append(file_path)\n",
    "    elif name.endswith('set1.txt'):\n",
    "        set_1_txt.append(file_path)\n",
    "    else:\n",
    "        set_1_jpg.append(file_path)\n",
    "\n"
   ]
  },
  {
   "cell_type": "code",
   "execution_count": 43,
   "metadata": {},
   "outputs": [],
   "source": [
    "def extract_features(image):\n",
    "    sobel_x = cv2.Sobel(image, cv2.CV_64F, 1, 0, ksize=3)\n",
    "    sobel_y = cv2.Sobel(image, cv2.CV_64F, 0, 1, ksize=3)\n",
    "\n",
    "    gradient_magnitude = np.sqrt(sobel_x**2 + sobel_y**2)\n",
    "\n",
    "    feature_vector = gradient_magnitude.flatten()\n",
    "\n",
    "    return feature_vector\n"
   ]
  },
  {
   "cell_type": "code",
   "execution_count": 44,
   "metadata": {},
   "outputs": [],
   "source": [
    "def load_label(label_path, image_shape):\n",
    "    with open(label_path, 'r') as file:\n",
    "        label_data = file.read().splitlines()\n",
    "    \n",
    "    labels = []\n",
    "    for line in label_data:\n",
    "        values = line.split()\n",
    "        x_center, y_center, width, height = map(float, values[1:])\n",
    "        x_min = (x_center - width / 2) * image_shape[1]\n",
    "        y_min = (y_center - height / 2) * image_shape[0]\n",
    "        x_max = (x_center + width / 2) * image_shape[1]\n",
    "        y_max = (y_center + height / 2) * image_shape[0]\n",
    "        labels.append((x_min, y_min, x_max, y_max))\n",
    "    \n",
    "    return labels"
   ]
  },
  {
   "cell_type": "code",
   "execution_count": 45,
   "metadata": {},
   "outputs": [],
   "source": [
    "\n",
    "def crutch(all_features, all_labels):\n",
    "    features = np.vstack(all_features)\n",
    "    labels = np.vstack(all_labels)\n",
    "    return features, labels"
   ]
  },
  {
   "cell_type": "code",
   "execution_count": 46,
   "metadata": {},
   "outputs": [],
   "source": [
    "def regression(features, labels):\n",
    "    model = LinearRegression()\n",
    "    model.fit(features, labels)\n",
    "    return model\n"
   ]
  },
  {
   "cell_type": "code",
   "execution_count": 47,
   "metadata": {},
   "outputs": [],
   "source": [
    "def main(image_paths_train, coord_paths_train, image_paths_test, l=[]):\n",
    "    all_features = []\n",
    "    all_labels = []\n",
    "\n",
    "    for image_path, label_path in zip(image_paths_train, coord_paths_train):\n",
    "        image = cv2.imread(image_path, cv2.IMREAD_GRAYSCALE)\n",
    "        image_shape = image.shape\n",
    "\n",
    "        features = extract_features(image)\n",
    "        all_features.append(features)\n",
    "\n",
    "        labels = load_label(label_path, image_shape)\n",
    "        all_labels.append(labels)\n",
    "\n",
    "    features, labels = crutch(all_features, all_labels)\n",
    "\n",
    "    model = regression(features, labels)\n",
    "\n",
    "    for image_path in image_paths_test:\n",
    "        test_image = cv2.imread(image_path, cv2.IMREAD_GRAYSCALE)\n",
    "        \n",
    "        test_features = extract_features(test_image)\n",
    "        test_features = np.array([test_features])\n",
    "        predicted_label = model.predict(test_features)\n",
    "        print(f\"Predicted bounding box for {image_path}: {predicted_label}\")"
   ]
  },
  {
   "cell_type": "code",
   "execution_count": 8,
   "metadata": {},
   "outputs": [],
   "source": []
  },
  {
   "cell_type": "code",
   "execution_count": 161,
   "metadata": {},
   "outputs": [],
   "source": []
  },
  {
   "cell_type": "code",
   "execution_count": 48,
   "metadata": {},
   "outputs": [
    {
     "name": "stdout",
     "output_type": "stream",
     "text": [
      "Predicted bounding box for test/153_set1.jpg: [[316.1543712  490.57663496 541.35991314 731.25419499]]\n",
      "Predicted bounding box for test/212_set1.jpg: [[287.97026012 487.344209   501.14420202 718.60321304]]\n",
      "Predicted bounding box for test/279_set1.jpg: [[ 713.29216152  794.85774955 1031.11703454 1129.23742481]]\n"
     ]
    }
   ],
   "source": [
    "# image_paths = ['test/160_set2.jpg', 'test/195_set1.jpg', 'test/194_set1.jpg']\n",
    "# label_paths = ['test/160_set2.txt', 'test/195_set1.txt', 'test/194_set1.txt']\n",
    "image_paths = set_2_jpg[:10]\n",
    "coord_paths = set_2_txt[:10]\n",
    "image_paths_test = ['test/153_set1.jpg', 'test/212_set1.jpg', 'test/279_set1.jpg']\n",
    "# main(set_2_jpg, set_2_txt, set_1_jpg, set_1_txt)\n",
    "main(image_paths, coord_paths, image_paths_test, [])\n",
    "\n"
   ]
  }
 ],
 "metadata": {
  "kernelspec": {
   "display_name": "Python 3",
   "language": "python",
   "name": "python3"
  },
  "language_info": {
   "codemirror_mode": {
    "name": "ipython",
    "version": 3
   },
   "file_extension": ".py",
   "mimetype": "text/x-python",
   "name": "python",
   "nbconvert_exporter": "python",
   "pygments_lexer": "ipython3",
   "version": "3.12.5"
  }
 },
 "nbformat": 4,
 "nbformat_minor": 2
}
